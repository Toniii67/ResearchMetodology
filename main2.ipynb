{
 "cells": [
  {
   "cell_type": "code",
   "execution_count": 1,
   "metadata": {},
   "outputs": [],
   "source": [
    "import json\n",
    "import pandas as pd\n",
    "import numpy as np\n",
    "\n",
    "from nltk.corpus import stopwords\n",
    "stop = stopwords.words('indonesian')\n",
    "\n",
    "from Sastrawi.Stemmer.StemmerFactory import StemmerFactory\n",
    "factory = StemmerFactory()\n",
    "stemmer = factory.create_stemmer()\n",
    "\n",
    "from sklearn.feature_extraction.text import CountVectorizer\n",
    "from sklearn.model_selection import train_test_split"
   ]
  },
  {
   "cell_type": "code",
   "execution_count": null,
   "metadata": {},
   "outputs": [],
   "source": []
  },
  {
   "cell_type": "code",
   "execution_count": 2,
   "metadata": {},
   "outputs": [],
   "source": [
    "file_path_test = \"D:/ResearchMetodology/SNLI_Indo_test.jsonl\"\n",
    "file_path_train = \"D:\\ResearchMetodology\\SNLI_Indo_train.jsonl\"\n",
    "file_path_val = \"D:\\ResearchMetodology\\SNLI_Indo_val.jsonl\""
   ]
  },
  {
   "cell_type": "code",
   "execution_count": 3,
   "metadata": {},
   "outputs": [
    {
     "name": "stdout",
     "output_type": "stream",
     "text": [
      "       annotator_labels    label emas  \\\n",
      "0            ['netral']        netral   \n",
      "1       ['kontradiksi']   kontradiksi   \n",
      "2      ['keterlibatan']  keterlibatan   \n",
      "3            ['netral']        netral   \n",
      "4      ['keterlibatan']  keterlibatan   \n",
      "...                 ...           ...   \n",
      "4995    ['kontradiksi']   kontradiksi   \n",
      "4996    ['kontradiksi']   kontradiksi   \n",
      "4997   ['keterlibatan']  keterlibatan   \n",
      "4998         ['netral']        netral   \n",
      "4999         ['netral']        netral   \n",
      "\n",
      "                                               kalimat1  \\\n",
      "0     Seseorang di atas kuda melompati pesawat yang ...   \n",
      "1     Seseorang di atas kuda melompati pesawat yang ...   \n",
      "2     Seseorang di atas kuda melompati pesawat yang ...   \n",
      "3            Anak-anak tersenyum dan melambai ke kamera   \n",
      "4            Anak-anak tersenyum dan melambai ke kamera   \n",
      "...                                                 ...   \n",
      "4995     Seseorang mengendarai sepeda motor ke samping.   \n",
      "4996     Seseorang mengendarai sepeda motor ke samping.   \n",
      "4997     Seseorang mengendarai sepeda motor ke samping.   \n",
      "4998     Seseorang mengendarai sepeda motor ke samping.   \n",
      "4999     Seseorang mengendarai sepeda motor ke samping.   \n",
      "\n",
      "                                               kalimat2  \n",
      "0     Seseorang sedang melatih kudanya untuk sebuah ...  \n",
      "1     Seseorang sedang makan malam, memesan telur da...  \n",
      "2       Seseorang berada di luar ruangan, di atas kuda.  \n",
      "3                Mereka tersenyum pada orang tua mereka  \n",
      "4                              Ada anak-anak yang hadir  \n",
      "...                                                 ...  \n",
      "4995         Seseorang diparkir di dalam mobil di jalan  \n",
      "4996  Orang itu duduk di bangku di terminal kereta b...  \n",
      "4997             Seseorang berada di atas sepeda motor.  \n",
      "4998  Pengendara bersiap-siap untuk melompat dari se...  \n",
      "4999  Seorang anak baru belajar mengendarai sepeda m...  \n",
      "\n",
      "[5000 rows x 4 columns]\n"
     ]
    }
   ],
   "source": [
    "data_list_train = []\n",
    "\n",
    "with open(file_path_train, \"r\") as f:\n",
    "    for line in f:\n",
    "        try:\n",
    "            data_train = json.loads(line)\n",
    "            data_list_train.append(data_train)\n",
    "        except json.JSONDecodeError as e:\n",
    "            print(f\"Error decoding JSON: {e}\")\n",
    "\n",
    "# Create a DataFrame from the list of dictionaries\n",
    "df_train = pd.DataFrame(data_list_train[:5000])\n",
    "# df_train = pd.DataFrame(df_train[:10000])\n",
    "\n",
    "# Display the DataFrame\n",
    "print(df_train)\n"
   ]
  },
  {
   "cell_type": "code",
   "execution_count": 4,
   "metadata": {},
   "outputs": [
    {
     "data": {
      "text/html": [
       "<div>\n",
       "<style scoped>\n",
       "    .dataframe tbody tr th:only-of-type {\n",
       "        vertical-align: middle;\n",
       "    }\n",
       "\n",
       "    .dataframe tbody tr th {\n",
       "        vertical-align: top;\n",
       "    }\n",
       "\n",
       "    .dataframe thead th {\n",
       "        text-align: right;\n",
       "    }\n",
       "</style>\n",
       "<table border=\"1\" class=\"dataframe\">\n",
       "  <thead>\n",
       "    <tr style=\"text-align: right;\">\n",
       "      <th></th>\n",
       "      <th>label emas</th>\n",
       "      <th>kalimat1</th>\n",
       "      <th>kalimat2</th>\n",
       "    </tr>\n",
       "  </thead>\n",
       "  <tbody>\n",
       "    <tr>\n",
       "      <th>0</th>\n",
       "      <td>netral</td>\n",
       "      <td>Seseorang di atas kuda melompati pesawat yang ...</td>\n",
       "      <td>Seseorang sedang melatih kudanya untuk sebuah ...</td>\n",
       "    </tr>\n",
       "    <tr>\n",
       "      <th>1</th>\n",
       "      <td>kontradiksi</td>\n",
       "      <td>Seseorang di atas kuda melompati pesawat yang ...</td>\n",
       "      <td>Seseorang sedang makan malam, memesan telur da...</td>\n",
       "    </tr>\n",
       "    <tr>\n",
       "      <th>2</th>\n",
       "      <td>keterlibatan</td>\n",
       "      <td>Seseorang di atas kuda melompati pesawat yang ...</td>\n",
       "      <td>Seseorang berada di luar ruangan, di atas kuda.</td>\n",
       "    </tr>\n",
       "    <tr>\n",
       "      <th>3</th>\n",
       "      <td>netral</td>\n",
       "      <td>Anak-anak tersenyum dan melambai ke kamera</td>\n",
       "      <td>Mereka tersenyum pada orang tua mereka</td>\n",
       "    </tr>\n",
       "    <tr>\n",
       "      <th>4</th>\n",
       "      <td>keterlibatan</td>\n",
       "      <td>Anak-anak tersenyum dan melambai ke kamera</td>\n",
       "      <td>Ada anak-anak yang hadir</td>\n",
       "    </tr>\n",
       "  </tbody>\n",
       "</table>\n",
       "</div>"
      ],
      "text/plain": [
       "     label emas                                           kalimat1  \\\n",
       "0        netral  Seseorang di atas kuda melompati pesawat yang ...   \n",
       "1   kontradiksi  Seseorang di atas kuda melompati pesawat yang ...   \n",
       "2  keterlibatan  Seseorang di atas kuda melompati pesawat yang ...   \n",
       "3        netral         Anak-anak tersenyum dan melambai ke kamera   \n",
       "4  keterlibatan         Anak-anak tersenyum dan melambai ke kamera   \n",
       "\n",
       "                                            kalimat2  \n",
       "0  Seseorang sedang melatih kudanya untuk sebuah ...  \n",
       "1  Seseorang sedang makan malam, memesan telur da...  \n",
       "2    Seseorang berada di luar ruangan, di atas kuda.  \n",
       "3             Mereka tersenyum pada orang tua mereka  \n",
       "4                           Ada anak-anak yang hadir  "
      ]
     },
     "execution_count": 4,
     "metadata": {},
     "output_type": "execute_result"
    }
   ],
   "source": [
    "# drop annotator_labels\n",
    "df_train = df_train.drop(columns=[\"annotator_labels\"])\n",
    "df_train.head()"
   ]
  },
  {
   "cell_type": "code",
   "execution_count": 5,
   "metadata": {},
   "outputs": [
    {
     "name": "stderr",
     "output_type": "stream",
     "text": [
      "C:\\Users\\ASUS\\AppData\\Local\\Temp\\ipykernel_10180\\2871904120.py:1: FutureWarning: The default value of regex will change from True to False in a future version.\n",
      "  df_train['kalimat1'] = df_train['kalimat1'].str.replace('[^\\w\\s]','')\n",
      "C:\\Users\\ASUS\\AppData\\Local\\Temp\\ipykernel_10180\\2871904120.py:2: FutureWarning: The default value of regex will change from True to False in a future version.\n",
      "  df_train['kalimat2'] = df_train['kalimat2'].str.replace('[^\\w\\s]','')\n"
     ]
    },
    {
     "data": {
      "text/html": [
       "<div>\n",
       "<style scoped>\n",
       "    .dataframe tbody tr th:only-of-type {\n",
       "        vertical-align: middle;\n",
       "    }\n",
       "\n",
       "    .dataframe tbody tr th {\n",
       "        vertical-align: top;\n",
       "    }\n",
       "\n",
       "    .dataframe thead th {\n",
       "        text-align: right;\n",
       "    }\n",
       "</style>\n",
       "<table border=\"1\" class=\"dataframe\">\n",
       "  <thead>\n",
       "    <tr style=\"text-align: right;\">\n",
       "      <th></th>\n",
       "      <th>label emas</th>\n",
       "      <th>kalimat1</th>\n",
       "      <th>kalimat2</th>\n",
       "    </tr>\n",
       "  </thead>\n",
       "  <tbody>\n",
       "    <tr>\n",
       "      <th>0</th>\n",
       "      <td>netral</td>\n",
       "      <td>Seseorang di atas kuda melompati pesawat yang ...</td>\n",
       "      <td>Seseorang sedang melatih kudanya untuk sebuah ...</td>\n",
       "    </tr>\n",
       "    <tr>\n",
       "      <th>1</th>\n",
       "      <td>kontradiksi</td>\n",
       "      <td>Seseorang di atas kuda melompati pesawat yang ...</td>\n",
       "      <td>Seseorang sedang makan malam memesan telur dadar</td>\n",
       "    </tr>\n",
       "    <tr>\n",
       "      <th>2</th>\n",
       "      <td>keterlibatan</td>\n",
       "      <td>Seseorang di atas kuda melompati pesawat yang ...</td>\n",
       "      <td>Seseorang berada di luar ruangan di atas kuda</td>\n",
       "    </tr>\n",
       "    <tr>\n",
       "      <th>3</th>\n",
       "      <td>netral</td>\n",
       "      <td>Anakanak tersenyum dan melambai ke kamera</td>\n",
       "      <td>Mereka tersenyum pada orang tua mereka</td>\n",
       "    </tr>\n",
       "    <tr>\n",
       "      <th>4</th>\n",
       "      <td>keterlibatan</td>\n",
       "      <td>Anakanak tersenyum dan melambai ke kamera</td>\n",
       "      <td>Ada anakanak yang hadir</td>\n",
       "    </tr>\n",
       "  </tbody>\n",
       "</table>\n",
       "</div>"
      ],
      "text/plain": [
       "     label emas                                           kalimat1  \\\n",
       "0        netral  Seseorang di atas kuda melompati pesawat yang ...   \n",
       "1   kontradiksi  Seseorang di atas kuda melompati pesawat yang ...   \n",
       "2  keterlibatan  Seseorang di atas kuda melompati pesawat yang ...   \n",
       "3        netral          Anakanak tersenyum dan melambai ke kamera   \n",
       "4  keterlibatan          Anakanak tersenyum dan melambai ke kamera   \n",
       "\n",
       "                                            kalimat2  \n",
       "0  Seseorang sedang melatih kudanya untuk sebuah ...  \n",
       "1   Seseorang sedang makan malam memesan telur dadar  \n",
       "2      Seseorang berada di luar ruangan di atas kuda  \n",
       "3             Mereka tersenyum pada orang tua mereka  \n",
       "4                            Ada anakanak yang hadir  "
      ]
     },
     "execution_count": 5,
     "metadata": {},
     "output_type": "execute_result"
    }
   ],
   "source": [
    "df_train['kalimat1'] = df_train['kalimat1'].str.replace('[^\\w\\s]','')\n",
    "df_train['kalimat2'] = df_train['kalimat2'].str.replace('[^\\w\\s]','')\n",
    "df_train.head()"
   ]
  },
  {
   "cell_type": "code",
   "execution_count": 6,
   "metadata": {},
   "outputs": [
    {
     "data": {
      "text/html": [
       "<div>\n",
       "<style scoped>\n",
       "    .dataframe tbody tr th:only-of-type {\n",
       "        vertical-align: middle;\n",
       "    }\n",
       "\n",
       "    .dataframe tbody tr th {\n",
       "        vertical-align: top;\n",
       "    }\n",
       "\n",
       "    .dataframe thead th {\n",
       "        text-align: right;\n",
       "    }\n",
       "</style>\n",
       "<table border=\"1\" class=\"dataframe\">\n",
       "  <thead>\n",
       "    <tr style=\"text-align: right;\">\n",
       "      <th></th>\n",
       "      <th>label emas</th>\n",
       "      <th>kalimat1</th>\n",
       "      <th>kalimat2</th>\n",
       "    </tr>\n",
       "  </thead>\n",
       "  <tbody>\n",
       "    <tr>\n",
       "      <th>0</th>\n",
       "      <td>netral</td>\n",
       "      <td>[Seseorang, di, atas, kuda, melompati, pesawat...</td>\n",
       "      <td>[Seseorang, sedang, melatih, kudanya, untuk, s...</td>\n",
       "    </tr>\n",
       "    <tr>\n",
       "      <th>1</th>\n",
       "      <td>kontradiksi</td>\n",
       "      <td>[Seseorang, di, atas, kuda, melompati, pesawat...</td>\n",
       "      <td>[Seseorang, sedang, makan, malam, memesan, tel...</td>\n",
       "    </tr>\n",
       "    <tr>\n",
       "      <th>2</th>\n",
       "      <td>keterlibatan</td>\n",
       "      <td>[Seseorang, di, atas, kuda, melompati, pesawat...</td>\n",
       "      <td>[Seseorang, berada, di, luar, ruangan, di, ata...</td>\n",
       "    </tr>\n",
       "    <tr>\n",
       "      <th>3</th>\n",
       "      <td>netral</td>\n",
       "      <td>[Anakanak, tersenyum, dan, melambai, ke, kamera]</td>\n",
       "      <td>[Mereka, tersenyum, pada, orang, tua, mereka]</td>\n",
       "    </tr>\n",
       "    <tr>\n",
       "      <th>4</th>\n",
       "      <td>keterlibatan</td>\n",
       "      <td>[Anakanak, tersenyum, dan, melambai, ke, kamera]</td>\n",
       "      <td>[Ada, anakanak, yang, hadir]</td>\n",
       "    </tr>\n",
       "  </tbody>\n",
       "</table>\n",
       "</div>"
      ],
      "text/plain": [
       "     label emas                                           kalimat1  \\\n",
       "0        netral  [Seseorang, di, atas, kuda, melompati, pesawat...   \n",
       "1   kontradiksi  [Seseorang, di, atas, kuda, melompati, pesawat...   \n",
       "2  keterlibatan  [Seseorang, di, atas, kuda, melompati, pesawat...   \n",
       "3        netral   [Anakanak, tersenyum, dan, melambai, ke, kamera]   \n",
       "4  keterlibatan   [Anakanak, tersenyum, dan, melambai, ke, kamera]   \n",
       "\n",
       "                                            kalimat2  \n",
       "0  [Seseorang, sedang, melatih, kudanya, untuk, s...  \n",
       "1  [Seseorang, sedang, makan, malam, memesan, tel...  \n",
       "2  [Seseorang, berada, di, luar, ruangan, di, ata...  \n",
       "3      [Mereka, tersenyum, pada, orang, tua, mereka]  \n",
       "4                       [Ada, anakanak, yang, hadir]  "
      ]
     },
     "execution_count": 6,
     "metadata": {},
     "output_type": "execute_result"
    }
   ],
   "source": [
    "df_train['kalimat1'] = df_train['kalimat1'].apply(lambda x: x.split())\n",
    "df_train['kalimat2'] = df_train['kalimat2'].apply(lambda x: x.split())\n",
    "df_train.head()"
   ]
  },
  {
   "cell_type": "code",
   "execution_count": 7,
   "metadata": {},
   "outputs": [
    {
     "data": {
      "text/html": [
       "<div>\n",
       "<style scoped>\n",
       "    .dataframe tbody tr th:only-of-type {\n",
       "        vertical-align: middle;\n",
       "    }\n",
       "\n",
       "    .dataframe tbody tr th {\n",
       "        vertical-align: top;\n",
       "    }\n",
       "\n",
       "    .dataframe thead th {\n",
       "        text-align: right;\n",
       "    }\n",
       "</style>\n",
       "<table border=\"1\" class=\"dataframe\">\n",
       "  <thead>\n",
       "    <tr style=\"text-align: right;\">\n",
       "      <th></th>\n",
       "      <th>label emas</th>\n",
       "      <th>kalimat1</th>\n",
       "      <th>kalimat2</th>\n",
       "    </tr>\n",
       "  </thead>\n",
       "  <tbody>\n",
       "    <tr>\n",
       "      <th>0</th>\n",
       "      <td>netral</td>\n",
       "      <td>[Seseorang, kuda, melompati, pesawat, rusak]</td>\n",
       "      <td>[Seseorang, melatih, kudanya, kompetisi]</td>\n",
       "    </tr>\n",
       "    <tr>\n",
       "      <th>1</th>\n",
       "      <td>kontradiksi</td>\n",
       "      <td>[Seseorang, kuda, melompati, pesawat, rusak]</td>\n",
       "      <td>[Seseorang, makan, malam, memesan, telur, dadar]</td>\n",
       "    </tr>\n",
       "    <tr>\n",
       "      <th>2</th>\n",
       "      <td>keterlibatan</td>\n",
       "      <td>[Seseorang, kuda, melompati, pesawat, rusak]</td>\n",
       "      <td>[Seseorang, ruangan, kuda]</td>\n",
       "    </tr>\n",
       "    <tr>\n",
       "      <th>3</th>\n",
       "      <td>netral</td>\n",
       "      <td>[Anakanak, tersenyum, melambai, kamera]</td>\n",
       "      <td>[Mereka, tersenyum, orang, tua]</td>\n",
       "    </tr>\n",
       "    <tr>\n",
       "      <th>4</th>\n",
       "      <td>keterlibatan</td>\n",
       "      <td>[Anakanak, tersenyum, melambai, kamera]</td>\n",
       "      <td>[Ada, anakanak, hadir]</td>\n",
       "    </tr>\n",
       "  </tbody>\n",
       "</table>\n",
       "</div>"
      ],
      "text/plain": [
       "     label emas                                      kalimat1  \\\n",
       "0        netral  [Seseorang, kuda, melompati, pesawat, rusak]   \n",
       "1   kontradiksi  [Seseorang, kuda, melompati, pesawat, rusak]   \n",
       "2  keterlibatan  [Seseorang, kuda, melompati, pesawat, rusak]   \n",
       "3        netral       [Anakanak, tersenyum, melambai, kamera]   \n",
       "4  keterlibatan       [Anakanak, tersenyum, melambai, kamera]   \n",
       "\n",
       "                                           kalimat2  \n",
       "0          [Seseorang, melatih, kudanya, kompetisi]  \n",
       "1  [Seseorang, makan, malam, memesan, telur, dadar]  \n",
       "2                        [Seseorang, ruangan, kuda]  \n",
       "3                   [Mereka, tersenyum, orang, tua]  \n",
       "4                            [Ada, anakanak, hadir]  "
      ]
     },
     "execution_count": 7,
     "metadata": {},
     "output_type": "execute_result"
    }
   ],
   "source": [
    "df_train['kalimat1'] = df_train['kalimat1'].apply(lambda x: [item for item in x if item not in stop])\n",
    "df_train['kalimat2'] = df_train['kalimat2'].apply(lambda x: [item for item in x if item not in stop])\n",
    "df_train.head()"
   ]
  },
  {
   "cell_type": "code",
   "execution_count": 8,
   "metadata": {},
   "outputs": [
    {
     "data": {
      "text/html": [
       "<div>\n",
       "<style scoped>\n",
       "    .dataframe tbody tr th:only-of-type {\n",
       "        vertical-align: middle;\n",
       "    }\n",
       "\n",
       "    .dataframe tbody tr th {\n",
       "        vertical-align: top;\n",
       "    }\n",
       "\n",
       "    .dataframe thead th {\n",
       "        text-align: right;\n",
       "    }\n",
       "</style>\n",
       "<table border=\"1\" class=\"dataframe\">\n",
       "  <thead>\n",
       "    <tr style=\"text-align: right;\">\n",
       "      <th></th>\n",
       "      <th>label emas</th>\n",
       "      <th>kalimat1</th>\n",
       "      <th>kalimat2</th>\n",
       "    </tr>\n",
       "  </thead>\n",
       "  <tbody>\n",
       "    <tr>\n",
       "      <th>0</th>\n",
       "      <td>netral</td>\n",
       "      <td>[orang, kuda, lompat, pesawat, rusak]</td>\n",
       "      <td>[orang, latih, kuda, kompetisi]</td>\n",
       "    </tr>\n",
       "    <tr>\n",
       "      <th>1</th>\n",
       "      <td>kontradiksi</td>\n",
       "      <td>[orang, kuda, lompat, pesawat, rusak]</td>\n",
       "      <td>[orang, makan, malam, mes, telur, dadar]</td>\n",
       "    </tr>\n",
       "    <tr>\n",
       "      <th>2</th>\n",
       "      <td>keterlibatan</td>\n",
       "      <td>[orang, kuda, lompat, pesawat, rusak]</td>\n",
       "      <td>[orang, ruang, kuda]</td>\n",
       "    </tr>\n",
       "    <tr>\n",
       "      <th>3</th>\n",
       "      <td>netral</td>\n",
       "      <td>[anakanak, senyum, lambai, kamera]</td>\n",
       "      <td>[mereka, senyum, orang, tua]</td>\n",
       "    </tr>\n",
       "    <tr>\n",
       "      <th>4</th>\n",
       "      <td>keterlibatan</td>\n",
       "      <td>[anakanak, senyum, lambai, kamera]</td>\n",
       "      <td>[ada, anakanak, hadir]</td>\n",
       "    </tr>\n",
       "  </tbody>\n",
       "</table>\n",
       "</div>"
      ],
      "text/plain": [
       "     label emas                               kalimat1  \\\n",
       "0        netral  [orang, kuda, lompat, pesawat, rusak]   \n",
       "1   kontradiksi  [orang, kuda, lompat, pesawat, rusak]   \n",
       "2  keterlibatan  [orang, kuda, lompat, pesawat, rusak]   \n",
       "3        netral     [anakanak, senyum, lambai, kamera]   \n",
       "4  keterlibatan     [anakanak, senyum, lambai, kamera]   \n",
       "\n",
       "                                   kalimat2  \n",
       "0           [orang, latih, kuda, kompetisi]  \n",
       "1  [orang, makan, malam, mes, telur, dadar]  \n",
       "2                      [orang, ruang, kuda]  \n",
       "3              [mereka, senyum, orang, tua]  \n",
       "4                    [ada, anakanak, hadir]  "
      ]
     },
     "execution_count": 8,
     "metadata": {},
     "output_type": "execute_result"
    }
   ],
   "source": [
    "df_train['kalimat1'] = df_train['kalimat1'].apply(lambda x: [stemmer.stem(item) for item in x])\n",
    "df_train['kalimat2'] = df_train['kalimat2'].apply(lambda x: [stemmer.stem(item) for item in x])\n",
    "df_train.head()"
   ]
  },
  {
   "cell_type": "code",
   "execution_count": 9,
   "metadata": {},
   "outputs": [],
   "source": [
    "from gensim.models import FastText\n",
    "\n",
    "# Membuat model FastText\n",
    "model_ft = FastText(df_train['kalimat1'] + df_train['kalimat2'], vector_size=100, window=5, min_count=1, workers=4)\n",
    "\n",
    "# Mendapatkan vektor untuk setiap kalimat\n",
    "def get_sentence_vector(sentence):\n",
    "    words = sentence\n",
    "    vectors = [model_ft.wv[word] for word in words if word in model_ft.wv.key_to_index]\n",
    "    return np.mean(vectors, axis=0)"
   ]
  },
  {
   "cell_type": "code",
   "execution_count": 10,
   "metadata": {},
   "outputs": [],
   "source": [
    "X = df_train['kalimat1'] + df_train['kalimat2']\n",
    "y = df_train['label emas']\n",
    "X_train, X_test, y_train, y_test = train_test_split(X, y, test_size=0.2)\n",
    "\n",
    "X_train_ft = np.array([get_sentence_vector(sentence) for sentence in X_train])\n",
    "X_test_ft = np.array([get_sentence_vector(sentence) for sentence in X_test])"
   ]
  },
  {
   "cell_type": "code",
   "execution_count": 11,
   "metadata": {},
   "outputs": [],
   "source": [
    "from sklearn.preprocessing import LabelEncoder\n",
    "\n",
    "encoder = LabelEncoder()\n",
    "y_train = encoder.fit_transform(y_train)\n",
    "y_test = encoder.transform(y_test)"
   ]
  },
  {
   "cell_type": "code",
   "execution_count": 12,
   "metadata": {},
   "outputs": [
    {
     "name": "stdout",
     "output_type": "stream",
     "text": [
      "Accuracy Logistic Regression: 0.388\n"
     ]
    }
   ],
   "source": [
    "# import logistic regression\n",
    "from sklearn.linear_model import LogisticRegression\n",
    "\n",
    "clf = LogisticRegression()\n",
    "clf.fit(X_train_ft, y_train)\n",
    "\n",
    "# Evaluasi model\n",
    "accuracy = clf.score(X_test_ft, y_test)\n",
    "print(f'Accuracy Logistic Regression: {accuracy}')"
   ]
  },
  {
   "cell_type": "code",
   "execution_count": 13,
   "metadata": {},
   "outputs": [
    {
     "name": "stderr",
     "output_type": "stream",
     "text": [
      "c:\\Users\\ASUS\\AppData\\Local\\Programs\\Python\\Python39\\lib\\site-packages\\joblib\\externals\\loky\\backend\\context.py:136: UserWarning: Could not find the number of physical cores for the following reason:\n",
      "[WinError 2] The system cannot find the file specified\n",
      "Returning the number of logical cores instead. You can silence this warning by setting LOKY_MAX_CPU_COUNT to the number of cores you want to use.\n",
      "  warnings.warn(\n",
      "  File \"c:\\Users\\ASUS\\AppData\\Local\\Programs\\Python\\Python39\\lib\\site-packages\\joblib\\externals\\loky\\backend\\context.py\", line 257, in _count_physical_cores\n",
      "    cpu_info = subprocess.run(\n",
      "  File \"c:\\Users\\ASUS\\AppData\\Local\\Programs\\Python\\Python39\\lib\\subprocess.py\", line 501, in run\n",
      "    with Popen(*popenargs, **kwargs) as process:\n",
      "  File \"c:\\Users\\ASUS\\AppData\\Local\\Programs\\Python\\Python39\\lib\\subprocess.py\", line 947, in __init__\n",
      "    self._execute_child(args, executable, preexec_fn, close_fds,\n",
      "  File \"c:\\Users\\ASUS\\AppData\\Local\\Programs\\Python\\Python39\\lib\\subprocess.py\", line 1416, in _execute_child\n",
      "    hp, ht, pid, tid = _winapi.CreateProcess(executable, args,\n"
     ]
    },
    {
     "name": "stdout",
     "output_type": "stream",
     "text": [
      "Accuracy KNN: 0.33\n"
     ]
    }
   ],
   "source": [
    "# import knn\n",
    "from sklearn.neighbors import KNeighborsClassifier\n",
    "\n",
    "knn = KNeighborsClassifier(n_neighbors=3)\n",
    "knn.fit(X_train_ft, y_train)\n",
    "\n",
    "# Evaluasi model\n",
    "accuracy = knn.score(X_test_ft, y_test)\n",
    "print(f'Accuracy KNN: {accuracy}')"
   ]
  },
  {
   "cell_type": "code",
   "execution_count": 14,
   "metadata": {},
   "outputs": [
    {
     "name": "stdout",
     "output_type": "stream",
     "text": [
      "Accuracy Naive Bayes: 0.393\n"
     ]
    }
   ],
   "source": [
    "# import nb\n",
    "from sklearn.naive_bayes import GaussianNB\n",
    "\n",
    "nb = GaussianNB()\n",
    "nb.fit(X_train_ft, y_train)\n",
    "\n",
    "# Evaluasi model\n",
    "accuracy = nb.score(X_test_ft, y_test)\n",
    "print(f'Accuracy Naive Bayes: {accuracy}')\n"
   ]
  },
  {
   "cell_type": "code",
   "execution_count": 15,
   "metadata": {},
   "outputs": [
    {
     "name": "stdout",
     "output_type": "stream",
     "text": [
      "Accuracy Random Forest: 0.336\n"
     ]
    }
   ],
   "source": [
    "# import rf\n",
    "from sklearn.ensemble import RandomForestClassifier\n",
    "\n",
    "rf = RandomForestClassifier()\n",
    "rf.fit(X_train_ft, y_train)\n",
    "\n",
    "# Evaluasi model\n",
    "accuracy = rf.score(X_test_ft, y_test)\n",
    "print(f'Accuracy Random Forest: {accuracy}')"
   ]
  },
  {
   "cell_type": "code",
   "execution_count": 16,
   "metadata": {},
   "outputs": [
    {
     "name": "stdout",
     "output_type": "stream",
     "text": [
      "Accuracy QDA: 0.258\n"
     ]
    }
   ],
   "source": [
    "# import qda\n",
    "from sklearn.discriminant_analysis import QuadraticDiscriminantAnalysis\n",
    "\n",
    "qda = QuadraticDiscriminantAnalysis()\n",
    "qda.fit(X_train_ft, y_train)\n",
    "\n",
    "# Evaluasi model\n",
    "accuracy = qda.score(X_test_ft, y_test)\n",
    "print(f'Accuracy QDA: {accuracy}')\n"
   ]
  },
  {
   "cell_type": "code",
   "execution_count": 17,
   "metadata": {},
   "outputs": [
    {
     "name": "stdout",
     "output_type": "stream",
     "text": [
      "Accuracy LDA: 0.394\n"
     ]
    }
   ],
   "source": [
    "# import lda\n",
    "from sklearn.discriminant_analysis import LinearDiscriminantAnalysis\n",
    "\n",
    "lda = LinearDiscriminantAnalysis()\n",
    "lda.fit(X_train_ft, y_train)\n",
    "\n",
    "# Evaluasi model\n",
    "accuracy = lda.score(X_test_ft, y_test)\n",
    "print(f'Accuracy LDA: {accuracy}')"
   ]
  },
  {
   "cell_type": "code",
   "execution_count": 18,
   "metadata": {},
   "outputs": [
    {
     "name": "stdout",
     "output_type": "stream",
     "text": [
      "Accuracy Dummy: 0.316\n"
     ]
    }
   ],
   "source": [
    "# import dummy\n",
    "from sklearn.dummy import DummyClassifier\n",
    "\n",
    "dummy = DummyClassifier()\n",
    "dummy.fit(X_train_ft, y_train)\n",
    "\n",
    "# Evaluasi model\n",
    "accuracy = dummy.score(X_test_ft, y_test)\n",
    "print(f'Accuracy Dummy: {accuracy}')"
   ]
  },
  {
   "cell_type": "code",
   "execution_count": 19,
   "metadata": {},
   "outputs": [
    {
     "name": "stdout",
     "output_type": "stream",
     "text": [
      "Accuracy SVM: 0.399\n"
     ]
    }
   ],
   "source": [
    "# import svm\n",
    "from sklearn.svm import SVC\n",
    "\n",
    "svm = SVC()\n",
    "svm.fit(X_train_ft, y_train)\n",
    "\n",
    "# Evaluasi model\n",
    "accuracy = svm.score(X_test_ft, y_test)\n",
    "print(f'Accuracy SVM: {accuracy}')"
   ]
  },
  {
   "cell_type": "code",
   "execution_count": 20,
   "metadata": {},
   "outputs": [
    {
     "name": "stderr",
     "output_type": "stream",
     "text": [
      "c:\\Users\\ASUS\\AppData\\Local\\Programs\\Python\\Python39\\lib\\site-packages\\sklearn\\ensemble\\_weight_boosting.py:519: FutureWarning: The SAMME.R algorithm (the default) is deprecated and will be removed in 1.6. Use the SAMME algorithm to circumvent this warning.\n",
      "  warnings.warn(\n"
     ]
    },
    {
     "name": "stdout",
     "output_type": "stream",
     "text": [
      "Accuracy Ada: 0.365\n"
     ]
    }
   ],
   "source": [
    "# import ada\n",
    "from sklearn.ensemble import AdaBoostClassifier\n",
    "\n",
    "ada = AdaBoostClassifier()\n",
    "ada.fit(X_train_ft, y_train)\n",
    "\n",
    "# Evaluasi model\n",
    "accuracy = ada.score(X_test_ft, y_test)\n",
    "print(f'Accuracy Ada: {accuracy}')"
   ]
  },
  {
   "cell_type": "code",
   "execution_count": 21,
   "metadata": {},
   "outputs": [
    {
     "name": "stdout",
     "output_type": "stream",
     "text": [
      "Accuracy ET: 0.317\n"
     ]
    }
   ],
   "source": [
    "# import et\n",
    "from sklearn.ensemble import ExtraTreesClassifier\n",
    "\n",
    "et = ExtraTreesClassifier()\n",
    "et.fit(X_train_ft, y_train)\n",
    "\n",
    "# Evaluasi model\n",
    "accuracy = et.score(X_test_ft, y_test)\n",
    "print(f'Accuracy ET: {accuracy}')"
   ]
  },
  {
   "cell_type": "code",
   "execution_count": 22,
   "metadata": {},
   "outputs": [
    {
     "name": "stdout",
     "output_type": "stream",
     "text": [
      "Accuracy GBC: 0.362\n"
     ]
    }
   ],
   "source": [
    "# import gbc\n",
    "from sklearn.ensemble import GradientBoostingClassifier\n",
    "\n",
    "gbc = GradientBoostingClassifier()\n",
    "gbc.fit(X_train_ft, y_train)\n",
    "\n",
    "# Evaluasi model\n",
    "accuracy = gbc.score(X_test_ft, y_test)\n",
    "print(f'Accuracy GBC: {accuracy}')"
   ]
  },
  {
   "cell_type": "code",
   "execution_count": 23,
   "metadata": {},
   "outputs": [
    {
     "name": "stdout",
     "output_type": "stream",
     "text": [
      "[LightGBM] [Info] Auto-choosing col-wise multi-threading, the overhead of testing was 0.035741 seconds.\n",
      "You can set `force_col_wise=true` to remove the overhead.\n",
      "[LightGBM] [Info] Total Bins 25500\n",
      "[LightGBM] [Info] Number of data points in the train set: 4000, number of used features: 100\n",
      "[LightGBM] [Info] Start training from score -1.096614\n",
      "[LightGBM] [Info] Start training from score -1.107149\n",
      "[LightGBM] [Info] Start training from score -1.092133\n",
      "Accuracy LGB: 0.337\n"
     ]
    }
   ],
   "source": [
    "# import lightgbm\n",
    "import lightgbm as lgb\n",
    "\n",
    "lgb = lgb.LGBMClassifier()\n",
    "lgb.fit(X_train_ft, y_train)\n",
    "\n",
    "# Evaluasi model\n",
    "accuracy = lgb.score(X_test_ft, y_test)\n",
    "print(f'Accuracy LGB: {accuracy}')"
   ]
  },
  {
   "cell_type": "code",
   "execution_count": 24,
   "metadata": {},
   "outputs": [
    {
     "name": "stdout",
     "output_type": "stream",
     "text": [
      "Accuracy DT: 0.319\n"
     ]
    }
   ],
   "source": [
    "# import dt\n",
    "from sklearn.tree import DecisionTreeClassifier\n",
    "\n",
    "dt = DecisionTreeClassifier()\n",
    "dt.fit(X_train_ft, y_train)\n",
    "\n",
    "# Evaluasi model\n",
    "accuracy = dt.score(X_test_ft, y_test)\n",
    "print(f'Accuracy DT: {accuracy}')"
   ]
  },
  {
   "cell_type": "code",
   "execution_count": 25,
   "metadata": {},
   "outputs": [
    {
     "name": "stdout",
     "output_type": "stream",
     "text": [
      "Accuracy Ridge: 0.38\n"
     ]
    }
   ],
   "source": [
    "# import ridge\n",
    "from sklearn.linear_model import RidgeClassifier\n",
    "\n",
    "ridge = RidgeClassifier()\n",
    "ridge.fit(X_train_ft, y_train)\n",
    "\n",
    "# Evaluasi model\n",
    "accuracy = ridge.score(X_test_ft, y_test)\n",
    "print(f'Accuracy Ridge: {accuracy}')"
   ]
  },
  {
   "cell_type": "code",
   "execution_count": null,
   "metadata": {},
   "outputs": [],
   "source": []
  }
 ],
 "metadata": {
  "kernelspec": {
   "display_name": "Python 3",
   "language": "python",
   "name": "python3"
  },
  "language_info": {
   "codemirror_mode": {
    "name": "ipython",
    "version": 3
   },
   "file_extension": ".py",
   "mimetype": "text/x-python",
   "name": "python",
   "nbconvert_exporter": "python",
   "pygments_lexer": "ipython3",
   "version": "3.9.0"
  }
 },
 "nbformat": 4,
 "nbformat_minor": 2
}
